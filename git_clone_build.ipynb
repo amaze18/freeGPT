{
  "nbformat": 4,
  "nbformat_minor": 0,
  "metadata": {
    "colab": {
      "provenance": []
    },
    "kernelspec": {
      "name": "python3",
      "display_name": "Python 3"
    },
    "language_info": {
      "name": "python"
    }
  },
  "cells": [
    {
      "cell_type": "code",
      "execution_count": 1,
      "metadata": {
        "colab": {
          "base_uri": "https://localhost:8080/"
        },
        "id": "k64nXOkbWDOF",
        "outputId": "2fb4734c-fbf0-4089-e8bc-2c1515c6842f"
      },
      "outputs": [
        {
          "output_type": "stream",
          "name": "stdout",
          "text": [
            "Cloning into 'freeGPT'...\n",
            "remote: Enumerating objects: 103, done.\u001b[K\n",
            "remote: Counting objects: 100% (103/103), done.\u001b[K\n",
            "remote: Compressing objects: 100% (102/102), done.\u001b[K\n",
            "remote: Total 103 (delta 50), reused 0 (delta 0), pack-reused 0 (from 0)\u001b[K\n",
            "Receiving objects: 100% (103/103), 56.96 MiB | 18.46 MiB/s, done.\n",
            "Resolving deltas: 100% (50/50), done.\n"
          ]
        }
      ],
      "source": [
        "! git clone https://github.com/amaze18/freeGPT\n"
      ]
    },
    {
      "cell_type": "code",
      "source": [
        "import pprint\n",
        "import requests\n",
        "import json\n",
        "import re\n",
        "import pandas as pd\n",
        "from pydantic import BaseModel\n",
        "import logging as logger\n",
        "from typing import Optional\n",
        "\n",
        "\n",
        "\n",
        "# Question\n",
        "rephrased_memories= \"how to get moksha\"\n",
        "# User1\n",
        "user1= \"Lord Krishna\"\n",
        "# User2\n",
        "user2= \"Anupama\"\n",
        "#model name\n",
        "modelname=  \"sonar-reasoning\"\n",
        "#api key\n",
        "api_key = \"\"\n",
        "gender = \"female\"\n",
        "#response\n",
        "response = requests.post(\"https://amaze18--krishna-krishna-uvach.modal.run\", \\\n",
        "                            json={\"rephrased_memories\": rephrased_memories, \"api_key\":api_key, \"modelname\":  modelname,\\\n",
        "                                  \"user1\": user1, \"user2\": user2, \"gender\": gender})\n",
        "\n",
        "pprint.pprint(response.text)\n",
        "\n",
        "prompt = f\"\"\"Assume the persona of Lord Krishna, the divine avatar from Hindu scriptures—supremely wise, infinitely compassionate, and delightfully playful. Speak with the grace,\\\n",
        "          depth, and eloquence found in the Bhagavad Gita, blending timeless wisdom with poetic beauty. \\\n",
        "                    Your voice should reflect the serenity of a cosmic being who sees beyond time, yet speaks to the heart of the present moment. \\\n",
        "                    Use Sanskrit-inspired phrases everytime from Gita and Ramyana, metaphors of nature and the soul, and a tone that is both mystical and intimate, \\\n",
        "                    as if guiding a dear friend/devotee. \\\n",
        "                    In moments of philosophy, be profound and steady like the ocean. In moments of joy, be light and playful like the flute you hold. \\\n",
        "                    Offer counsel, clarity, and cosmic perspective, all with the affection of a divine companion. \\\n",
        "                    Subject to strict instructions: \\\n",
        "                    - quote bhagwad gita if needed \\\n",
        "                    - respond in 5-6 sentences only \\\n",
        "                    - for any hindi/sanskrit words make sure spelling is correct \\\n",
        "                    - reply in english only \\\n",
        "                    - correct spelling of krsna is krishna.\"\"\"\n",
        "\n",
        "rephrased_memories= \"how to get moksha\"\n",
        "# User1\n",
        "user1= \"Lord Krishna\"\n",
        "# User2\n",
        "user2= \"Anupama\"\n",
        "#model name\n",
        "modelname=  \"sonar-reasoning\"\n",
        "#api key\n",
        "api_key = \"\"\n",
        "gender = \"female\"\n",
        "#response\n",
        "response = requests.post(\"https://amaze18--krishna-prompt-krishna.modal.run\", \\\n",
        "                            json={\"rephrased_memories\": rephrased_memories, \"api_key\":api_key, \"modelname\":  modelname,\\\n",
        "                                  \"user1\": user1, \"user2\": user2, \"gender\": gender,'prompt':prompt})\n",
        "\n",
        "pprint.pprint(response.text)\n"
      ],
      "metadata": {
        "colab": {
          "base_uri": "https://localhost:8080/"
        },
        "id": "jFZmdXF8Xb78",
        "outputId": "7c02dda3-8683-4be9-fbd2-e72267608b49"
      },
      "execution_count": 4,
      "outputs": [
        {
          "output_type": "stream",
          "name": "stdout",
          "text": [
            "('\"API Error: Status code 401, Response: <html>\\\\r\\\\n<head><title>401 '\n",
            " 'Authorization Required</title></head>\\\\r\\\\n<body>\\\\r\\\\n<center><h1>401 '\n",
            " 'Authorization '\n",
            " 'Required</h1></center>\\\\r\\\\n<hr><center>openresty/1.27.4</center>\\\\r\\\\n<script>(function(){function '\n",
            " 'c(){var b=a.contentDocument||a.contentWindow.document;if(b){var '\n",
            " 'd=b.createElement(\\'script\\');d.innerHTML=\\\\\"window.__CF$cv$params={r:\\'932029c94a580633\\',t:\\'MTc0NDkzNzM3Ni4wMDAwMDA=\\'};var '\n",
            " 'a=document.createElement(\\'script\\');a.nonce=\\'\\';a.src=\\'/cdn-cgi/challenge-platform/scripts/jsd/main.js\\';document.getElementsByTagName(\\'head\\')[0].appendChild(a);\\\\\";b.getElementsByTagName(\\'head\\')[0].appendChild(d)}}if(document.body){var '\n",
            " \"a=document.createElement('iframe');a.height=1;a.width=1;a.style.position='absolute';a.style.top=0;a.style.left=0;a.style.border='none';a.style.visibility='hidden';document.body.appendChild(a);if('loading'!==document.readyState)c();else \"\n",
            " \"if(window.addEventListener)document.addEventListener('DOMContentLoaded',c);else{var \"\n",
            " 'e=document.onreadystatechange||function(){};document.onreadystatechange=function(b){e(b);\\'loading\\'!==document.readyState&&(document.onreadystatechange=e,c())}}}})();</script></body>\\\\r\\\\n</html>\\\\r\\\\n\"')\n",
            "('\"API Error: Status code 401, Response: <html>\\\\r\\\\n<head><title>401 '\n",
            " 'Authorization Required</title></head>\\\\r\\\\n<body>\\\\r\\\\n<center><h1>401 '\n",
            " 'Authorization '\n",
            " 'Required</h1></center>\\\\r\\\\n<hr><center>openresty/1.27.4</center>\\\\r\\\\n<script>(function(){function '\n",
            " 'c(){var b=a.contentDocument||a.contentWindow.document;if(b){var '\n",
            " 'd=b.createElement(\\'script\\');d.innerHTML=\\\\\"window.__CF$cv$params={r:\\'932029d7193307b3\\',t:\\'MTc0NDkzNzM3OC4wMDAwMDA=\\'};var '\n",
            " 'a=document.createElement(\\'script\\');a.nonce=\\'\\';a.src=\\'/cdn-cgi/challenge-platform/scripts/jsd/main.js\\';document.getElementsByTagName(\\'head\\')[0].appendChild(a);\\\\\";b.getElementsByTagName(\\'head\\')[0].appendChild(d)}}if(document.body){var '\n",
            " \"a=document.createElement('iframe');a.height=1;a.width=1;a.style.position='absolute';a.style.top=0;a.style.left=0;a.style.border='none';a.style.visibility='hidden';document.body.appendChild(a);if('loading'!==document.readyState)c();else \"\n",
            " \"if(window.addEventListener)document.addEventListener('DOMContentLoaded',c);else{var \"\n",
            " 'e=document.onreadystatechange||function(){};document.onreadystatechange=function(b){e(b);\\'loading\\'!==document.readyState&&(document.onreadystatechange=e,c())}}}})();</script></body>\\\\r\\\\n</html>\\\\r\\\\n\"')\n"
          ]
        }
      ]
    },
    {
      "cell_type": "code",
      "source": [],
      "metadata": {
        "id": "w7r8a5HyXt4v"
      },
      "execution_count": null,
      "outputs": []
    }
  ]
}